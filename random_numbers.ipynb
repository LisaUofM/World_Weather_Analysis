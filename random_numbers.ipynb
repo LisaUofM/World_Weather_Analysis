{
 "cells": [
  {
   "cell_type": "code",
   "execution_count": 1,
   "id": "2afcda85",
   "metadata": {},
   "outputs": [],
   "source": [
    "# Import the random module\n",
    "import random"
   ]
  },
  {
   "cell_type": "code",
   "execution_count": 2,
   "id": "af559817",
   "metadata": {},
   "outputs": [
    {
     "data": {
      "text/plain": [
       "1"
      ]
     },
     "execution_count": 2,
     "metadata": {},
     "output_type": "execute_result"
    }
   ],
   "source": [
    "#random integer\n",
    "random.randint(-90,90)"
   ]
  },
  {
   "cell_type": "code",
   "execution_count": 3,
   "id": "81ffc823",
   "metadata": {},
   "outputs": [
    {
     "data": {
      "text/plain": [
       "0.845734728214421"
      ]
     },
     "execution_count": 3,
     "metadata": {},
     "output_type": "execute_result"
    }
   ],
   "source": [
    "#random floating-point\n",
    "random.random()"
   ]
  },
  {
   "cell_type": "code",
   "execution_count": 4,
   "id": "cb6f2e1d",
   "metadata": {},
   "outputs": [
    {
     "data": {
      "text/plain": [
       "-76.72453479416185"
      ]
     },
     "execution_count": 4,
     "metadata": {},
     "output_type": "execute_result"
    }
   ],
   "source": [
    "#random integer + random floating point (between 0 and 1.0)\n",
    "random_number = random.randint(-90,89) + random.random()\n",
    "random_number"
   ]
  },
  {
   "cell_type": "code",
   "execution_count": 5,
   "id": "45775e74",
   "metadata": {},
   "outputs": [],
   "source": [
    "x = 1\n",
    "latitudes = []\n",
    "while x < 11:\n",
    "    random_lat = random.randint(-90,89) + random.random()\n",
    "    latitudes.append(random_lat)\n",
    "    x += 1"
   ]
  },
  {
   "cell_type": "code",
   "execution_count": 6,
   "id": "deddaacc",
   "metadata": {},
   "outputs": [
    {
     "data": {
      "text/plain": [
       "[56.89835444708931,\n",
       " -44.40292043993471,\n",
       " 67.95675518454426,\n",
       " -60.28116799810103,\n",
       " 75.5080238401559,\n",
       " 79.76640716943078,\n",
       " 7.43832427679395,\n",
       " 9.779267127119025,\n",
       " -46.77975109068765,\n",
       " 0.6787428272661565]"
      ]
     },
     "execution_count": 6,
     "metadata": {},
     "output_type": "execute_result"
    }
   ],
   "source": [
    "latitudes"
   ]
  },
  {
   "cell_type": "code",
   "execution_count": 7,
   "id": "59ff52d5",
   "metadata": {},
   "outputs": [
    {
     "data": {
      "text/plain": [
       "47"
      ]
     },
     "execution_count": 7,
     "metadata": {},
     "output_type": "execute_result"
    }
   ],
   "source": [
    "#random range\n",
    "random.randrange(-90,90, step=1)"
   ]
  },
  {
   "cell_type": "code",
   "execution_count": 8,
   "id": "31b78c40",
   "metadata": {},
   "outputs": [
    {
     "data": {
      "text/plain": [
       "69"
      ]
     },
     "execution_count": 8,
     "metadata": {},
     "output_type": "execute_result"
    }
   ],
   "source": [
    "random.randrange(-90,90, step=3)"
   ]
  },
  {
   "cell_type": "code",
   "execution_count": 9,
   "id": "eaa67afc",
   "metadata": {},
   "outputs": [],
   "source": [
    "# random range + random floating point (between 0 and 1.0)\n",
    "random_number = random.randrange(-90,89, step=3) + random.random()"
   ]
  },
  {
   "cell_type": "code",
   "execution_count": 10,
   "id": "75f81e9b",
   "metadata": {},
   "outputs": [
    {
     "data": {
      "text/plain": [
       "-20.68284225918006"
      ]
     },
     "execution_count": 10,
     "metadata": {},
     "output_type": "execute_result"
    }
   ],
   "source": [
    "random_number"
   ]
  },
  {
   "cell_type": "code",
   "execution_count": 11,
   "id": "7a7d6985",
   "metadata": {},
   "outputs": [
    {
     "data": {
      "text/plain": [
       "50.93893850932005"
      ]
     },
     "execution_count": 11,
     "metadata": {},
     "output_type": "execute_result"
    }
   ],
   "source": [
    "#unform() floating point decimal between two given numbers\n",
    "random.uniform(-90,90)"
   ]
  },
  {
   "cell_type": "code",
   "execution_count": 12,
   "id": "302d4c29",
   "metadata": {},
   "outputs": [],
   "source": [
    "#numpy is a numerical mathematics library that can be used to make arrays or matrices of numbers\n",
    "import numpy as np\n"
   ]
  },
  {
   "cell_type": "code",
   "execution_count": 13,
   "id": "ec3ccd82",
   "metadata": {},
   "outputs": [
    {
     "data": {
      "text/plain": [
       "-65.46276683050219"
      ]
     },
     "execution_count": 13,
     "metadata": {},
     "output_type": "execute_result"
    }
   ],
   "source": [
    "np.random.uniform(-90.000, 90.000)"
   ]
  },
  {
   "cell_type": "code",
   "execution_count": 14,
   "id": "4316e765",
   "metadata": {},
   "outputs": [
    {
     "data": {
      "text/plain": [
       "83.36430995224777"
      ]
     },
     "execution_count": 14,
     "metadata": {},
     "output_type": "execute_result"
    }
   ],
   "source": [
    "np.random.uniform(low=-90, high=90)"
   ]
  },
  {
   "cell_type": "code",
   "execution_count": 15,
   "id": "ebaf603d",
   "metadata": {},
   "outputs": [
    {
     "data": {
      "text/plain": [
       "array([ 76.39727205,  16.13593182,   7.15240546, -60.1881428 ,\n",
       "        18.15274199,  54.31202337, -19.18115039, -17.29333534,\n",
       "        44.37797298,  62.88649744, -35.86265543,  82.06475222,\n",
       "       -53.25699287,   2.84693674, -76.64870778, -72.97443077,\n",
       "       -42.7915586 ,  55.91509449,  38.4962705 ,  59.6241136 ,\n",
       "        35.25605787,  10.34567886, -60.18565903,  87.34968241,\n",
       "        39.03186691, -52.69350192,  19.77181356,  43.35141634,\n",
       "        -8.4927202 ,   2.01549628, -13.01158752, -17.64586783,\n",
       "        -1.01687464, -87.19924309,  33.15691005, -47.52708447,\n",
       "        17.04320545, -81.84251907, -88.20149164, -77.6407798 ,\n",
       "         9.0782266 , -67.86931702,  -3.32698476,  49.24916012,\n",
       "         0.46373484,  11.6250225 ,  62.49065766,  -9.32731085,\n",
       "         3.50575189, -46.65518284])"
      ]
     },
     "execution_count": 15,
     "metadata": {},
     "output_type": "execute_result"
    }
   ],
   "source": [
    "#Use \"size\" parameter to generate more than one number\n",
    "np.random.uniform(-90.000, 90.000, size=50)"
   ]
  },
  {
   "cell_type": "code",
   "execution_count": 16,
   "id": "f3ec4b72",
   "metadata": {},
   "outputs": [],
   "source": [
    "# Timeit test how long a piece of code takes to run\n",
    "import timeit"
   ]
  },
  {
   "cell_type": "code",
   "execution_count": 17,
   "id": "c96122e4",
   "metadata": {},
   "outputs": [
    {
     "name": "stdout",
     "output_type": "stream",
     "text": [
      "12.1 µs ± 109 ns per loop (mean ± std. dev. of 7 runs, 100000 loops each)\n"
     ]
    }
   ],
   "source": [
    "%timeit np.random.uniform(-90.000, 90.000, size=1500)"
   ]
  },
  {
   "cell_type": "code",
   "execution_count": 18,
   "id": "ae1436a2",
   "metadata": {},
   "outputs": [],
   "source": [
    "#refactor the code for the while loop and write a for loop that will generate\n",
    "#1,500 latitudes \n",
    "\n",
    "def latitudes(size):\n",
    "    latitudes = []\n",
    "    \n",
    "    for x in range(0, size):\n",
    "        \n",
    "        random_lat = random.randint(-90,90) + random.random()\n",
    "        latitudes.append(random_lat)\n",
    "    \n",
    "    return latitudes\n",
    "\n",
    "# Call the function with 1500"
   ]
  },
  {
   "cell_type": "code",
   "execution_count": 19,
   "id": "e3494987",
   "metadata": {},
   "outputs": [
    {
     "data": {
      "text/plain": [
       "[55.814923220640694,\n",
       " 41.68428989910819,\n",
       " 86.81523138844176,\n",
       " -42.236981050126154,\n",
       " -45.58240349203747,\n",
       " 7.107871587102506,\n",
       " -59.37041501229804,\n",
       " 57.47096748533899,\n",
       " 50.581605083941085,\n",
       " 23.733148573977832]"
      ]
     },
     "execution_count": 19,
     "metadata": {},
     "output_type": "execute_result"
    }
   ],
   "source": [
    "latitudes(10)"
   ]
  },
  {
   "cell_type": "code",
   "execution_count": 23,
   "id": "996918e3",
   "metadata": {},
   "outputs": [
    {
     "name": "stdout",
     "output_type": "stream",
     "text": [
      "1.67 ms ± 102 µs per loop (mean ± std. dev. of 7 runs, 1000 loops each)\n"
     ]
    }
   ],
   "source": [
    "%timeit latitudes(1500)"
   ]
  },
  {
   "cell_type": "code",
   "execution_count": 22,
   "id": "f7b16421",
   "metadata": {},
   "outputs": [],
   "source": []
  },
  {
   "cell_type": "code",
   "execution_count": null,
   "id": "09f1f77e",
   "metadata": {},
   "outputs": [],
   "source": []
  }
 ],
 "metadata": {
  "kernelspec": {
   "display_name": "PythonData",
   "language": "python",
   "name": "pythondata"
  },
  "language_info": {
   "codemirror_mode": {
    "name": "ipython",
    "version": 3
   },
   "file_extension": ".py",
   "mimetype": "text/x-python",
   "name": "python",
   "nbconvert_exporter": "python",
   "pygments_lexer": "ipython3",
   "version": "3.7.11"
  }
 },
 "nbformat": 4,
 "nbformat_minor": 5
}
