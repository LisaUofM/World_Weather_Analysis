{
 "cells": [
  {
   "cell_type": "code",
   "execution_count": null,
   "id": "71ed6439",
   "metadata": {},
   "outputs": [],
   "source": [
    "#6.2.6 - Handle Request Errors with Try-except example\n"
   ]
  },
  {
   "cell_type": "code",
   "execution_count": 1,
   "id": "66c393ef",
   "metadata": {},
   "outputs": [],
   "source": [
    "import requests\n",
    "from config import weather_api_keys"
   ]
  },
  {
   "cell_type": "code",
   "execution_count": 2,
   "id": "0dead11d",
   "metadata": {},
   "outputs": [],
   "source": [
    "\n",
    "\n",
    "\n",
    "url = \"http://api.openweathermap.org/data/2.5/weather?lat={lat}&lon={lon}&appid=\" + weather_api_keys\n",
    "\n",
    "\n"
   ]
  },
  {
   "cell_type": "code",
   "execution_count": 3,
   "id": "135c5d2f",
   "metadata": {},
   "outputs": [],
   "source": [
    "cities = [\"Pittsburgh\" , \"Austin\", \"New  York\", \"Los Angeles\", \"Seattle\"]"
   ]
  },
  {
   "cell_type": "code",
   "execution_count": 4,
   "id": "9c589e58",
   "metadata": {},
   "outputs": [
    {
     "name": "stdout",
     "output_type": "stream",
     "text": [
      "It is currently 268.63 degrees in Pittsburgh\n",
      "It is currently 273.07 degrees in Austin\n",
      "KeyError received for New  York\n",
      "It is currently 289.92 degrees in Los Angeles\n",
      "It is currently 279.56 degrees in Seattle\n"
     ]
    }
   ],
   "source": [
    "for city in cities:\n",
    "    try:\n",
    "        city_url = url + \"&q=\" + city\n",
    "        weather = requests.get(city_url).json()\n",
    "        temp = weather[\"main\"][\"temp\"]\n",
    "    except KeyError: \n",
    "        print('KeyError received for ' + city)\n",
    "        continue\n",
    "    print(\"It is currently \" + str(temp) + \" degrees in \" + city)"
   ]
  },
  {
   "cell_type": "code",
   "execution_count": null,
   "id": "323d87ad",
   "metadata": {},
   "outputs": [],
   "source": []
  }
 ],
 "metadata": {
  "kernelspec": {
   "display_name": "PythonData",
   "language": "python",
   "name": "pythondata"
  },
  "language_info": {
   "codemirror_mode": {
    "name": "ipython",
    "version": 3
   },
   "file_extension": ".py",
   "mimetype": "text/x-python",
   "name": "python",
   "nbconvert_exporter": "python",
   "pygments_lexer": "ipython3",
   "version": "3.7.11"
  }
 },
 "nbformat": 4,
 "nbformat_minor": 5
}
